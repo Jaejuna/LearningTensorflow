{
 "cells": [
  {
   "cell_type": "code",
   "execution_count": 2,
   "metadata": {},
   "outputs": [],
   "source": [
    "#라이브러이 호출\n",
    "import pandas as pd\n",
    "import numpy as np\n",
    "import tensorflow as tf\n",
    "\n",
    "import matplotlib.pyplot as plt\n",
    "%matplotlib inline\n",
    "\n",
    "import seaborn as sns\n",
    "sns.set(style='darkgrid')"
   ]
  },
  {
   "cell_type": "code",
   "execution_count": 3,
   "metadata": {},
   "outputs": [],
   "source": [
    "#데이터 호출\n",
    "cols = ['price', 'maint', 'doors', 'persons', 'lug_capacity', 'safety', 'output'] #자동차 가격, 유지 비용, 문 개수, 수용 인원, 수하물 용량, 안정성, 차 상태 순서\n",
    "cars = pd.read_csv('../ch02/data/car_evaluation.csv', names=cols, header=None)  #칼럼 이름이 포함되어 있지 않아 header 매개함수 None"
   ]
  },
  {
   "cell_type": "code",
   "execution_count": 10,
   "metadata": {},
   "outputs": [
    {
     "data": {
      "text/plain": [
       "<AxesSubplot:ylabel='output'>"
      ]
     },
     "execution_count": 10,
     "metadata": {},
     "output_type": "execute_result"
    },
    {
     "data": {
      "image/png": "[encoded data removed]",
      "text/plain": [
       "<Figure size 576x432 with 1 Axes>"
      ]
     },
     "metadata": {},
     "output_type": "display_data"
    }
   ],
   "source": [
    "#예제 데이터셋 분포\n",
    "plot_size = plt.rcParams[\"figure.figsize\"]\n",
    "plot_size [0] = 8\n",
    "plot_size [1] = 6\n",
    "plt.rcParams[\"figure.figsize\"] = plot_size\n",
    "cars.output.value_counts().plot(kind='pie', autopct='%0.05f%%', colors=['lightblue', 'pink', 'purple', 'red'], explode=(0.05, 0.05, 0.05, 0.05))"
   ]
  },
  {
   "cell_type": "code",
   "execution_count": 11,
   "metadata": {},
   "outputs": [],
   "source": [
    "#원-핫 인코딩 적용\n",
    "price = pd.get_dummies(cars.price, prefix='price')\n",
    "maint = pd.get_dummies(cars.maint, prefix='maint')\n",
    "\n",
    "doors = pd.get_dummies(cars.doors, prefix='doors')\n",
    "persons = pd.get_dummies(cars.persons, prefix='persons')\n",
    "\n",
    "lug_capacity = pd.get_dummies(cars.lug_capacity, prefix='lug_capacity')\n",
    "safety = pd.get_dummies(cars.safety, prefix='safety')\n",
    "\n",
    "labels = pd.get_dummies(cars.output, prefix='condition')\n",
    "\n",
    "X = pd.concat([price, maint, doors, persons, lug_capacity, safety] , axis=1)\n",
    "y = labels.values"
   ]
  },
  {
   "cell_type": "code",
   "execution_count": 12,
   "metadata": {},
   "outputs": [],
   "source": [
    "#훈련과 검증 데이터셋으로 분리\n",
    "from sklearn.model_selection import train_test_split\n",
    "X_train, X_test, y_train, y_test = train_test_split(X, y, test_size=0.20, random_state=42) #random state - 데이터셋을 섞을 때 참조하는 int 값, 튜닝 때 해당 값을 고정해야 데이터셋 변경 방지"
   ]
  },
  {
   "cell_type": "code",
   "execution_count": 13,
   "metadata": {},
   "outputs": [
    {
     "name": "stdout",
     "output_type": "stream",
     "text": [
      "Model: \"functional_1\"\n",
      "_________________________________________________________________\n",
      "Layer (type)                 Output Shape              Param #   \n",
      "=================================================================\n",
      "input_1 (InputLayer)         [(None, 21)]              0         \n",
      "_________________________________________________________________\n",
      "dense (Dense)                (None, 15)                330       \n",
      "_________________________________________________________________\n",
      "dense_1 (Dense)              (None, 10)                160       \n",
      "_________________________________________________________________\n",
      "dense_2 (Dense)              (None, 4)                 44        \n",
      "=================================================================\n",
      "Total params: 534\n",
      "Trainable params: 534\n",
      "Non-trainable params: 0\n",
      "_________________________________________________________________\n"
     ]
    }
   ],
   "source": [
    "#모델 생성 및 컴파일\n",
    "from tensorflow.keras.layers import Input, Dense, Activation,Dropout\n",
    "from tensorflow.keras.models import Model\n",
    "\n",
    "input_layer = Input(shape=(X.shape[1],))\n",
    "dense_layer_1 = Dense(15, activation='relu')(input_layer)\n",
    "dense_layer_2 = Dense(10, activation='relu')(dense_layer_1)\n",
    "output = Dense(y.shape[1], activation='softmax')(dense_layer_2)\n",
    "\n",
    "model = Model(inputs=input_layer, outputs=output)\n",
    "model.compile(loss='categorical_crossentropy', optimizer='adam', metrics=['acc'])\n",
    "\n",
    "model.summary()"
   ]
  },
  {
   "cell_type": "code",
   "execution_count": 14,
   "metadata": {},
   "outputs": [
    {
     "name": "stdout",
     "output_type": "stream",
     "text": [
      "Epoch 1/50\n",
      "139/139 [==============================] - 1s 4ms/step - loss: 0.9343 - acc: 0.6824 - val_loss: 0.8490 - val_acc: 0.6498\n",
      "Epoch 2/50\n",
      "139/139 [==============================] - 0s 2ms/step - loss: 0.6543 - acc: 0.7213 - val_loss: 0.6992 - val_acc: 0.6534\n",
      "Epoch 3/50\n",
      "139/139 [==============================] - 0s 2ms/step - loss: 0.5187 - acc: 0.7611 - val_loss: 0.5726 - val_acc: 0.7365\n",
      "Epoch 4/50\n",
      "139/139 [==============================] - 0s 2ms/step - loss: 0.4161 - acc: 0.8344 - val_loss: 0.4951 - val_acc: 0.7978\n",
      "Epoch 5/50\n",
      "139/139 [==============================] - 0s 2ms/step - loss: 0.3546 - acc: 0.8624 - val_loss: 0.4457 - val_acc: 0.8159\n",
      "Epoch 6/50\n",
      "139/139 [==============================] - 0s 2ms/step - loss: 0.3166 - acc: 0.8824 - val_loss: 0.4060 - val_acc: 0.8412\n",
      "Epoch 7/50\n",
      "139/139 [==============================] - 0s 2ms/step - loss: 0.2864 - acc: 0.8905 - val_loss: 0.3722 - val_acc: 0.8484\n",
      "Epoch 8/50\n",
      "139/139 [==============================] - 0s 2ms/step - loss: 0.2591 - acc: 0.8905 - val_loss: 0.3437 - val_acc: 0.8592\n",
      "Epoch 9/50\n",
      "139/139 [==============================] - 0s 2ms/step - loss: 0.2357 - acc: 0.8959 - val_loss: 0.3187 - val_acc: 0.8484\n",
      "Epoch 10/50\n",
      "139/139 [==============================] - 0s 2ms/step - loss: 0.2106 - acc: 0.9086 - val_loss: 0.3110 - val_acc: 0.8484\n",
      "Epoch 11/50\n",
      "139/139 [==============================] - 0s 2ms/step - loss: 0.1949 - acc: 0.9186 - val_loss: 0.2728 - val_acc: 0.8881\n",
      "Epoch 12/50\n",
      "139/139 [==============================] - 0s 2ms/step - loss: 0.1778 - acc: 0.9312 - val_loss: 0.2625 - val_acc: 0.8809\n",
      "Epoch 13/50\n",
      "139/139 [==============================] - 0s 2ms/step - loss: 0.1656 - acc: 0.9321 - val_loss: 0.2432 - val_acc: 0.8953\n",
      "Epoch 14/50\n",
      "139/139 [==============================] - 0s 2ms/step - loss: 0.1516 - acc: 0.9466 - val_loss: 0.2334 - val_acc: 0.8989\n",
      "Epoch 15/50\n",
      "139/139 [==============================] - 0s 2ms/step - loss: 0.1368 - acc: 0.9557 - val_loss: 0.2160 - val_acc: 0.9134\n",
      "Epoch 16/50\n",
      "139/139 [==============================] - 0s 2ms/step - loss: 0.1266 - acc: 0.9683 - val_loss: 0.1994 - val_acc: 0.9350\n",
      "Epoch 17/50\n",
      "139/139 [==============================] - 0s 2ms/step - loss: 0.1163 - acc: 0.9683 - val_loss: 0.1938 - val_acc: 0.9278\n",
      "Epoch 18/50\n",
      "139/139 [==============================] - 0s 2ms/step - loss: 0.1081 - acc: 0.9738 - val_loss: 0.1887 - val_acc: 0.9242\n",
      "Epoch 19/50\n",
      "139/139 [==============================] - 0s 2ms/step - loss: 0.0987 - acc: 0.9756 - val_loss: 0.1970 - val_acc: 0.9206\n",
      "Epoch 20/50\n",
      "139/139 [==============================] - 0s 2ms/step - loss: 0.0930 - acc: 0.9783 - val_loss: 0.1664 - val_acc: 0.9422\n",
      "Epoch 21/50\n",
      "139/139 [==============================] - 0s 2ms/step - loss: 0.0873 - acc: 0.9792 - val_loss: 0.1537 - val_acc: 0.9386\n",
      "Epoch 22/50\n",
      "139/139 [==============================] - 0s 2ms/step - loss: 0.0796 - acc: 0.9855 - val_loss: 0.1535 - val_acc: 0.9422\n",
      "Epoch 23/50\n",
      "139/139 [==============================] - 0s 2ms/step - loss: 0.0756 - acc: 0.9819 - val_loss: 0.1329 - val_acc: 0.9567\n",
      "Epoch 24/50\n",
      "139/139 [==============================] - 0s 2ms/step - loss: 0.0705 - acc: 0.9810 - val_loss: 0.1677 - val_acc: 0.9206\n",
      "Epoch 25/50\n",
      "139/139 [==============================] - 0s 2ms/step - loss: 0.0649 - acc: 0.9882 - val_loss: 0.1361 - val_acc: 0.9458\n",
      "Epoch 26/50\n",
      "139/139 [==============================] - 0s 2ms/step - loss: 0.0621 - acc: 0.9864 - val_loss: 0.1356 - val_acc: 0.9422\n",
      "Epoch 27/50\n",
      "139/139 [==============================] - 0s 2ms/step - loss: 0.0590 - acc: 0.9855 - val_loss: 0.1348 - val_acc: 0.9350\n",
      "Epoch 28/50\n",
      "139/139 [==============================] - 0s 2ms/step - loss: 0.0544 - acc: 0.9891 - val_loss: 0.1434 - val_acc: 0.9350\n",
      "Epoch 29/50\n",
      "139/139 [==============================] - 0s 2ms/step - loss: 0.0513 - acc: 0.9891 - val_loss: 0.1188 - val_acc: 0.9531\n",
      "Epoch 30/50\n",
      "139/139 [==============================] - 0s 2ms/step - loss: 0.0487 - acc: 0.9900 - val_loss: 0.1196 - val_acc: 0.9495\n",
      "Epoch 31/50\n",
      "139/139 [==============================] - 0s 2ms/step - loss: 0.0450 - acc: 0.9937 - val_loss: 0.1171 - val_acc: 0.9531\n",
      "Epoch 32/50\n",
      "139/139 [==============================] - 0s 2ms/step - loss: 0.0441 - acc: 0.9900 - val_loss: 0.1120 - val_acc: 0.9531\n",
      "Epoch 33/50\n",
      "139/139 [==============================] - 0s 2ms/step - loss: 0.0408 - acc: 0.9919 - val_loss: 0.1102 - val_acc: 0.9495\n",
      "Epoch 34/50\n",
      "139/139 [==============================] - 0s 2ms/step - loss: 0.0372 - acc: 0.9955 - val_loss: 0.1132 - val_acc: 0.9531\n",
      "Epoch 35/50\n",
      "139/139 [==============================] - 0s 2ms/step - loss: 0.0366 - acc: 0.9919 - val_loss: 0.1052 - val_acc: 0.9603\n",
      "Epoch 36/50\n",
      "139/139 [==============================] - 0s 2ms/step - loss: 0.0339 - acc: 0.9928 - val_loss: 0.1100 - val_acc: 0.9531\n",
      "Epoch 37/50\n",
      "139/139 [==============================] - 0s 2ms/step - loss: 0.0315 - acc: 0.9955 - val_loss: 0.1081 - val_acc: 0.9531\n",
      "Epoch 38/50\n",
      "139/139 [==============================] - 0s 2ms/step - loss: 0.0306 - acc: 0.9946 - val_loss: 0.0956 - val_acc: 0.9675\n",
      "Epoch 39/50\n",
      "139/139 [==============================] - 0s 2ms/step - loss: 0.0279 - acc: 0.9955 - val_loss: 0.0946 - val_acc: 0.9639\n",
      "Epoch 40/50\n",
      "139/139 [==============================] - 0s 2ms/step - loss: 0.0266 - acc: 0.9955 - val_loss: 0.0990 - val_acc: 0.9603\n",
      "Epoch 41/50\n",
      "139/139 [==============================] - 0s 2ms/step - loss: 0.0240 - acc: 0.9982 - val_loss: 0.0912 - val_acc: 0.9639\n",
      "Epoch 42/50\n",
      "139/139 [==============================] - 0s 2ms/step - loss: 0.0231 - acc: 0.9955 - val_loss: 0.0920 - val_acc: 0.9675\n",
      "Epoch 43/50\n",
      "139/139 [==============================] - 0s 2ms/step - loss: 0.0213 - acc: 0.9973 - val_loss: 0.0931 - val_acc: 0.9639\n",
      "Epoch 44/50\n",
      "139/139 [==============================] - 0s 2ms/step - loss: 0.0208 - acc: 0.9982 - val_loss: 0.1056 - val_acc: 0.9567\n",
      "Epoch 45/50\n",
      "139/139 [==============================] - 0s 2ms/step - loss: 0.0191 - acc: 0.9973 - val_loss: 0.1002 - val_acc: 0.9531\n",
      "Epoch 46/50\n",
      "139/139 [==============================] - 0s 2ms/step - loss: 0.0176 - acc: 1.0000 - val_loss: 0.0910 - val_acc: 0.9675\n",
      "Epoch 47/50\n",
      "139/139 [==============================] - 0s 2ms/step - loss: 0.0169 - acc: 0.9991 - val_loss: 0.0818 - val_acc: 0.9711\n",
      "Epoch 48/50\n",
      "139/139 [==============================] - 0s 2ms/step - loss: 0.0169 - acc: 1.0000 - val_loss: 0.0872 - val_acc: 0.9747\n",
      "Epoch 49/50\n",
      "139/139 [==============================] - 0s 2ms/step - loss: 0.0147 - acc: 1.0000 - val_loss: 0.0869 - val_acc: 0.9675\n",
      "Epoch 50/50\n",
      "139/139 [==============================] - 0s 2ms/step - loss: 0.0134 - acc: 1.0000 - val_loss: 0.0942 - val_acc: 0.9639\n"
     ]
    }
   ],
   "source": [
    "# 모델 훈련 \n",
    "history = model.fit(X_train, y_train, batch_size=8, epochs=50, verbose=1, validation_split=0.2)"
   ]
  },
  {
   "cell_type": "code",
   "execution_count": 15,
   "metadata": {},
   "outputs": [
    {
     "name": "stdout",
     "output_type": "stream",
     "text": [
      "11/11 [==============================] - 0s 2ms/step - loss: 0.0910 - acc: 0.9653\n",
      "Test Score: 0.09103785455226898\n",
      "Test Accuracy: 0.9653179049491882\n"
     ]
    }
   ],
   "source": [
    "# 모델 평가\n",
    "score = model.evaluate(X_test, y_test, verbose=1)\n",
    "print(\"Test Score:\", score[0])\n",
    "print(\"Test Accuracy:\", score[1])"
   ]
  }
 ],
 "metadata": {
  "kernelspec": {
   "display_name": "Python 3.7.4 64-bit",
   "language": "python",
   "name": "python3"
  },
  "language_info": {
   "codemirror_mode": {
    "name": "ipython",
    "version": 3
   },
   "file_extension": ".py",
   "mimetype": "text/x-python",
   "name": "python",
   "nbconvert_exporter": "python",
   "pygments_lexer": "ipython3",
   "version": "3.7.4"
  },
  "orig_nbformat": 4,
  "vscode": {
   "interpreter": {
    "hash": "949777d72b0d2535278d3dc13498b2535136f6dfe0678499012e853ee9abcab1"
   }
  }
 },
 "nbformat": 4,
 "nbformat_minor": 2
}
